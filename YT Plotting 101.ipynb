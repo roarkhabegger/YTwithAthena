{
 "cells": [
  {
   "cell_type": "code",
   "execution_count": null,
   "metadata": {},
   "outputs": [],
   "source": [
    "# Matplotlib plotting modules\n",
    "import matplotlib.pyplot as plt\n",
    "import matplotlib.colors as colors\n",
    "from matplotlib import cm\n",
    "%matplotlib inline\n",
    "\n",
    "##numpy and file editing\n",
    "import numpy as np\n",
    "import glob\n",
    "\n",
    "# Problem/physics modules\n",
    "import units_Parker\n",
    "\n",
    "##YT modules\n",
    "import yt\n",
    "from yt.visualization.api import Streamlines\n",
    "import yt.units as u"
   ]
  },
  {
   "cell_type": "code",
   "execution_count": null,
   "metadata": {},
   "outputs": [],
   "source": [
    "path   = './'\n",
    "prob   = 'Parker'\n",
    "outfileNom = \"parker\"\n",
    "run = \"testAW\"\n",
    "suffix = 'athdf'\n",
    "out = 1\n",
    "\n",
    "myUnits = units_Parker.Parker()\n",
    "\n",
    "units= {\"length_unit\":(myUnits.ls.value,str(myUnits.ls.unit)),\n",
    "                  \"time_unit\":(myUnits.ts.value,str(myUnits.ts.unit)),\n",
    "                  \"mass_unit\":(myUnits.ms.value,str(myUnits.ms.unit))}\n",
    "\n",
    "fileName = (\"%s%s/%s/%s.out%1i*.%s\") % (path, prob, run,\n",
    "                                            outfileNom,out,suffix)\n",
    "\n",
    "fileLst = glob.glob(fileName)\n",
    "fileLst = np.sort(fileLst)\n",
    "\n",
    "dsLst = []\n",
    "for file in fileLst:\n",
    "    ds = yt.load(file,units_override=units)\n",
    "    dsLst.append(ds)\n"
   ]
  },
  {
   "cell_type": "code",
   "execution_count": null,
   "metadata": {},
   "outputs": [],
   "source": []
  },
  {
   "cell_type": "code",
   "execution_count": null,
   "metadata": {},
   "outputs": [],
   "source": [
    "\n",
    "\n",
    "\n",
    "\n",
    "quant = (\"gas\",\"velocity_x\")\n",
    "print(dsLst[1].all_data())\n",
    "\n",
    "slc = yt.SlicePlot(dsLst[1],'z',quant) #,center='c')\n",
    "slc.set_log(quant, True,linthresh=0.01)\n",
    "slc.show()\n",
    "\n",
    "yt.LinePlot(ds,[('density'),('Bcc2')],(0,0,-1),(4,0,-1),1000)\n",
    "\n",
    "d= 10\n",
    "\n",
    "infile = ((\"%s%s/%s/%s.out%1i.%05i.%s\") % (path, prob, run,\n",
    "                                            outfileNom,out,d,suffix))\n",
    "\n",
    "ds = yt.load(infile, units_override=units_override)\n",
    "Y = np.linspace(0,4,20)\n",
    "pos = np.array([[Y],[Y*0+4.0],[Y*0]])\n",
    "\n",
    "streamlines = Streamlines(\n",
    "        ds,pos, 'velocity_x', 'velocity_y', length=1.0)\n",
    "#streamlines.integrate_through_volume()\n",
    "spp = yt.PhasePlot(ds, \"Bcc2\", \"density\",'vel1')\n",
    "spp.set_log('vel1', False)"
   ]
  }
 ],
 "metadata": {
  "kernelspec": {
   "display_name": "Python 3",
   "language": "python",
   "name": "python3"
  },
  "language_info": {
   "codemirror_mode": {
    "name": "ipython",
    "version": 3
   },
   "file_extension": ".py",
   "mimetype": "text/x-python",
   "name": "python",
   "nbconvert_exporter": "python",
   "pygments_lexer": "ipython3",
   "version": "3.8.3"
  }
 },
 "nbformat": 4,
 "nbformat_minor": 4
}
